{
 "cells": [
  {
   "cell_type": "code",
   "execution_count": 1,
   "metadata": {},
   "outputs": [],
   "source": [
    "from colour_norm.luminosity import get_Lref, correct_lum\n",
    "from colour_norm.sample import sample_tiles_wsi, sample_tiles_dataset\n",
    "import os\n",
    "import glob\n",
    "import cv2"
   ]
  },
  {
   "cell_type": "code",
   "execution_count": null,
   "metadata": {},
   "outputs": [],
   "source": [
    "slides = glob.glob(\"/Users/katherine/repos/ColourNormalisation/tests/data/images_raw/*\")"
   ]
  },
  {
   "cell_type": "code",
   "execution_count": null,
   "metadata": {},
   "outputs": [],
   "source": [
    "for slide in slides:\n",
    "    reference = sample_tiles_wsi(slide, 100)\n",
    "    out_path = \"/Users/katherine/repos/ColourNormalisation/tests/data/images_lum_corrected/\" + (slide.split('/')[-1])\n",
    "\n",
    "    if not os.path.isdir(out_path):\n",
    "        os.mkdir(out_path)\n",
    "\n",
    "    if not os.path.isdir(out_path +  \"/tiles/\"):\n",
    "        os.mkdir(out_path + \"/tiles/\")\n",
    "\n",
    "    cv2.imwrite(out_path + \"/reference.jpg\", reference)\n",
    "\n",
    "    lref, mu, sigma = get_Lref(\n",
    "       out_path + \"/reference.jpg\",\n",
    "        95,\n",
    "    )\n",
    "\n",
    "    tiles = glob.glob(slide + \"/*\")\n",
    "\n",
    "    for tile in tiles:\n",
    "        tile_normalised = correct_lum(tile, lref, mu, sigma)\n",
    "        cv2.imwrite(out_path + \"/tiles/\" + tile.split('/')[-1], tile_normalised)\n",
    "\n"
   ]
  },
  {
   "cell_type": "code",
   "execution_count": null,
   "metadata": {},
   "outputs": [],
   "source": []
  }
 ],
 "metadata": {
  "interpreter": {
   "hash": "292ec43ec48c8d626ee873d20b91d962ec863baa029a78c4afe5cc049c577920"
  },
  "kernelspec": {
   "display_name": "Python 3.9.12 ('cn39')",
   "language": "python",
   "name": "python3"
  },
  "language_info": {
   "codemirror_mode": {
    "name": "ipython",
    "version": 3
   },
   "file_extension": ".py",
   "mimetype": "text/x-python",
   "name": "python",
   "nbconvert_exporter": "python",
   "pygments_lexer": "ipython3",
   "version": "3.9.12"
  },
  "orig_nbformat": 4
 },
 "nbformat": 4,
 "nbformat_minor": 2
}
